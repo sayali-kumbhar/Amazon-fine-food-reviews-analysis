{
 "cells": [
  {
   "cell_type": "code",
   "execution_count": 1,
   "id": "ff86ba5a",
   "metadata": {},
   "outputs": [],
   "source": [
    "import pandas as pd\n",
    "from sklearn.model_selection import train_test_split\n",
    "from sklearn.feature_extraction.text import CountVectorizer,TfidfVectorizer,TfidfTransformer\n",
    "import warnings \n",
    "warnings.filterwarnings('ignore')\n",
    "import seaborn as sns\n",
    "import matplotlib.pyplot as plt\n",
    "from sklearn.preprocessing import StandardScaler\n",
    "import time\n",
    "import numpy as np\n",
    "from sklearn.model_selection import cross_val_score\n",
    "from sklearn.linear_model import LogisticRegression \n",
    "from sklearn.metrics import accuracy_score\n",
    "from sklearn.metrics import confusion_matrix\n",
    "from gensim.models import Word2Vec\n",
    "from gensim.models import KeyedVectors\n",
    "from tqdm import tqdm"
   ]
  },
  {
   "cell_type": "code",
   "execution_count": 2,
   "id": "484058d1",
   "metadata": {},
   "outputs": [
    {
     "data": {
      "text/html": [
       "<div>\n",
       "<style scoped>\n",
       "    .dataframe tbody tr th:only-of-type {\n",
       "        vertical-align: middle;\n",
       "    }\n",
       "\n",
       "    .dataframe tbody tr th {\n",
       "        vertical-align: top;\n",
       "    }\n",
       "\n",
       "    .dataframe thead th {\n",
       "        text-align: right;\n",
       "    }\n",
       "</style>\n",
       "<table border=\"1\" class=\"dataframe\">\n",
       "  <thead>\n",
       "    <tr style=\"text-align: right;\">\n",
       "      <th></th>\n",
       "      <th>Time</th>\n",
       "      <th>clean text</th>\n",
       "      <th>Score</th>\n",
       "    </tr>\n",
       "  </thead>\n",
       "  <tbody>\n",
       "    <tr>\n",
       "      <th>0</th>\n",
       "      <td>939340800</td>\n",
       "      <td>witty little book makes son laugh loud recite ...</td>\n",
       "      <td>1</td>\n",
       "    </tr>\n",
       "    <tr>\n",
       "      <th>1</th>\n",
       "      <td>1194739200</td>\n",
       "      <td>grew reading sendak books watching really rosi...</td>\n",
       "      <td>1</td>\n",
       "    </tr>\n",
       "  </tbody>\n",
       "</table>\n",
       "</div>"
      ],
      "text/plain": [
       "         Time                                         clean text  Score\n",
       "0   939340800  witty little book makes son laugh loud recite ...      1\n",
       "1  1194739200  grew reading sendak books watching really rosi...      1"
      ]
     },
     "execution_count": 2,
     "metadata": {},
     "output_type": "execute_result"
    }
   ],
   "source": [
    "data=pd.read_csv(\"preprocessed_file.csv\")\n",
    "data.head(2)"
   ]
  },
  {
   "cell_type": "code",
   "execution_count": 4,
   "id": "97fbbcbc",
   "metadata": {},
   "outputs": [
    {
     "data": {
      "text/plain": [
       "1"
      ]
     },
     "execution_count": 4,
     "metadata": {},
     "output_type": "execute_result"
    }
   ],
   "source": [
    "data.isnull().any().sum()"
   ]
  },
  {
   "cell_type": "code",
   "execution_count": 5,
   "id": "3854072d",
   "metadata": {},
   "outputs": [],
   "source": [
    "final_data=data.dropna()"
   ]
  },
  {
   "cell_type": "code",
   "execution_count": 6,
   "id": "af4d03ce",
   "metadata": {},
   "outputs": [
    {
     "data": {
      "text/plain": [
       "0"
      ]
     },
     "execution_count": 6,
     "metadata": {},
     "output_type": "execute_result"
    }
   ],
   "source": [
    "final_data.isnull().any().sum()"
   ]
  },
  {
   "cell_type": "code",
   "execution_count": 7,
   "id": "1f888a2b",
   "metadata": {},
   "outputs": [
    {
     "name": "stdout",
     "output_type": "stream",
     "text": [
      "(100000, 3)\n",
      "Index(['Time', 'clean text', 'Score'], dtype='object')\n"
     ]
    }
   ],
   "source": [
    "sample_data=final_data.sample(100000,random_state=42)\n",
    "print(sample_data.shape)\n",
    "print(sample_data.columns)"
   ]
  },
  {
   "cell_type": "code",
   "execution_count": 9,
   "id": "610395f4",
   "metadata": {},
   "outputs": [],
   "source": [
    "text=sample_data[\"clean text\"]"
   ]
  },
  {
   "cell_type": "code",
   "execution_count": 10,
   "id": "36efe19f",
   "metadata": {},
   "outputs": [],
   "source": [
    "i=0\n",
    "list_of_sentance=[]\n",
    "for sentance in text:\n",
    "    list_of_sentance.append(sentance.split())"
   ]
  },
  {
   "cell_type": "code",
   "execution_count": 11,
   "id": "d1fa321f",
   "metadata": {},
   "outputs": [
    {
     "name": "stdout",
     "output_type": "stream",
     "text": [
      "[('fantastic', 0.8017511367797852), ('terrific', 0.7966592907905579), ('awesome', 0.7864436507225037), ('excellent', 0.7852773666381836), ('good', 0.7578009963035583), ('wonderful', 0.7510077357292175), ('fabulous', 0.6521478891372681), ('incredible', 0.6284111738204956), ('amazing', 0.6250677704811096), ('phenomenal', 0.6208261251449585)]\n",
      "==================================================\n",
      "[('nastiest', 0.7425679564476013), ('greatest', 0.7229869365692139), ('best', 0.692347526550293), ('tastiest', 0.6490675210952759), ('weakest', 0.6404266953468323), ('horrible', 0.5994212031364441), ('grossest', 0.5959147810935974), ('smoothest', 0.5945000052452087), ('disgusting', 0.5857833027839661), ('sweetest', 0.5827450156211853)]\n"
     ]
    }
   ],
   "source": [
    "is_your_ram_gt_16g=False\n",
    "want_to_use_google_w2v = False\n",
    "want_to_train_w2v = True\n",
    "\n",
    "if want_to_train_w2v:\n",
    "    # min_count = 5 considers only words that occured atleast 5 times\n",
    "    w2v_model=Word2Vec(list_of_sentance,min_count=5, workers=4)\n",
    "    print(w2v_model.wv.most_similar('great'))\n",
    "    print('='*50)\n",
    "    print(w2v_model.wv.most_similar('worst'))\n",
    "    \n",
    "elif want_to_use_google_w2v and is_your_ram_gt_16g:\n",
    "    if os.path.isfile('GoogleNews-vectors-negative300.bin'):\n",
    "        w2v_model=KeyedVectors.load_word2vec_format('GoogleNews-vectors-negative300.bin', binary=True)\n",
    "        print(w2v_model.wv.most_similar('great'))\n",
    "        print(w2v_model.wv.most_similar('worst'))\n",
    "    else:\n",
    "        print(\"you don't have gogole's word2vec file, keep want_to_train_w2v = True, to train your own w2v \")"
   ]
  },
  {
   "cell_type": "code",
   "execution_count": 12,
   "id": "a57574e6",
   "metadata": {},
   "outputs": [
    {
     "name": "stdout",
     "output_type": "stream",
     "text": [
      "number of words that occured minimum 5 times  19000\n",
      "sample words  ['not', 'like', 'good', 'great', 'one', 'taste', 'product', 'would', 'coffee', 'flavor', 'tea', 'love', 'no', 'get', 'food', 'really', 'amazon', 'use', 'much', 'also', 'time', 'little', 'find', 'best', 'price', 'buy', 'make', 'well', 'tried', 'even', 'better', 'try', 'chocolate', 'eat', 'sugar', 'first', 'water', 'used', 'could', 'found', 'sweet', 'made', 'bag', 'bought', 'free', 'drink', 'cup', 'dog', 'box', 'way']\n"
     ]
    }
   ],
   "source": [
    "w2v_words = list(w2v_model.wv.key_to_index)\n",
    "print(\"number of words that occured minimum 5 times \",len(w2v_words))\n",
    "print(\"sample words \", w2v_words[0:50])"
   ]
  },
  {
   "cell_type": "code",
   "execution_count": 13,
   "id": "1a8fd70d",
   "metadata": {},
   "outputs": [
    {
     "data": {
      "text/plain": [
       "19000"
      ]
     },
     "execution_count": 13,
     "metadata": {},
     "output_type": "execute_result"
    }
   ],
   "source": [
    "len(w2v_words)"
   ]
  },
  {
   "cell_type": "code",
   "execution_count": 14,
   "id": "6b8c2193",
   "metadata": {},
   "outputs": [
    {
     "name": "stderr",
     "output_type": "stream",
     "text": [
      "100%|█████████████████████████████████████████████████████████████████████████| 100000/100000 [08:06<00:00, 205.57it/s]"
     ]
    },
    {
     "name": "stdout",
     "output_type": "stream",
     "text": [
      "100000\n",
      "100\n"
     ]
    },
    {
     "name": "stderr",
     "output_type": "stream",
     "text": [
      "\n"
     ]
    }
   ],
   "source": [
    "sent_vectors = []; # the avg-w2v for each sentence/review is stored in this list\n",
    "for sent in tqdm(list_of_sentance): # for each review/sentence\n",
    "    sent_vec = np.zeros(100) # as word vectors are of zero length 50, you might need to change this to 300 if you use google's w2v\n",
    "    cnt_words =0; # num of words with a valid vector in the sentence/review\n",
    "    for word in sent: # for each word in a review/sentence\n",
    "        if word in w2v_words:\n",
    "            vec = w2v_model.wv[word]\n",
    "            sent_vec += vec\n",
    "            cnt_words += 1\n",
    "    if cnt_words != 0:\n",
    "        sent_vec /= cnt_words\n",
    "    sent_vectors.append(sent_vec)\n",
    "print(len(sent_vectors))\n",
    "print(len(sent_vectors[0]))"
   ]
  },
  {
   "cell_type": "code",
   "execution_count": 15,
   "id": "04853074",
   "metadata": {},
   "outputs": [
    {
     "data": {
      "text/html": [
       "<div>\n",
       "<style scoped>\n",
       "    .dataframe tbody tr th:only-of-type {\n",
       "        vertical-align: middle;\n",
       "    }\n",
       "\n",
       "    .dataframe tbody tr th {\n",
       "        vertical-align: top;\n",
       "    }\n",
       "\n",
       "    .dataframe thead th {\n",
       "        text-align: right;\n",
       "    }\n",
       "</style>\n",
       "<table border=\"1\" class=\"dataframe\">\n",
       "  <thead>\n",
       "    <tr style=\"text-align: right;\">\n",
       "      <th></th>\n",
       "      <th>0</th>\n",
       "      <th>1</th>\n",
       "      <th>2</th>\n",
       "      <th>3</th>\n",
       "      <th>4</th>\n",
       "      <th>5</th>\n",
       "      <th>6</th>\n",
       "      <th>7</th>\n",
       "      <th>8</th>\n",
       "      <th>9</th>\n",
       "      <th>...</th>\n",
       "      <th>90</th>\n",
       "      <th>91</th>\n",
       "      <th>92</th>\n",
       "      <th>93</th>\n",
       "      <th>94</th>\n",
       "      <th>95</th>\n",
       "      <th>96</th>\n",
       "      <th>97</th>\n",
       "      <th>98</th>\n",
       "      <th>99</th>\n",
       "    </tr>\n",
       "  </thead>\n",
       "  <tbody>\n",
       "    <tr>\n",
       "      <th>0</th>\n",
       "      <td>-0.203290</td>\n",
       "      <td>0.157019</td>\n",
       "      <td>0.081251</td>\n",
       "      <td>0.145412</td>\n",
       "      <td>-0.184297</td>\n",
       "      <td>-0.140728</td>\n",
       "      <td>-0.551824</td>\n",
       "      <td>0.427484</td>\n",
       "      <td>-0.212026</td>\n",
       "      <td>-0.454808</td>\n",
       "      <td>...</td>\n",
       "      <td>-0.199672</td>\n",
       "      <td>0.049680</td>\n",
       "      <td>0.652167</td>\n",
       "      <td>-0.276553</td>\n",
       "      <td>0.454451</td>\n",
       "      <td>0.358438</td>\n",
       "      <td>0.519319</td>\n",
       "      <td>-0.615428</td>\n",
       "      <td>-0.161831</td>\n",
       "      <td>0.177530</td>\n",
       "    </tr>\n",
       "    <tr>\n",
       "      <th>1</th>\n",
       "      <td>-0.522816</td>\n",
       "      <td>0.556190</td>\n",
       "      <td>0.287653</td>\n",
       "      <td>-0.790863</td>\n",
       "      <td>0.257616</td>\n",
       "      <td>0.050956</td>\n",
       "      <td>-0.659295</td>\n",
       "      <td>0.367224</td>\n",
       "      <td>0.448070</td>\n",
       "      <td>0.065556</td>\n",
       "      <td>...</td>\n",
       "      <td>-0.194174</td>\n",
       "      <td>0.590518</td>\n",
       "      <td>0.574717</td>\n",
       "      <td>-0.693842</td>\n",
       "      <td>0.785193</td>\n",
       "      <td>0.104926</td>\n",
       "      <td>-0.235397</td>\n",
       "      <td>-0.835852</td>\n",
       "      <td>0.758061</td>\n",
       "      <td>-0.464559</td>\n",
       "    </tr>\n",
       "    <tr>\n",
       "      <th>2</th>\n",
       "      <td>-0.891051</td>\n",
       "      <td>-0.378911</td>\n",
       "      <td>-0.588745</td>\n",
       "      <td>-0.008627</td>\n",
       "      <td>-0.129587</td>\n",
       "      <td>0.107037</td>\n",
       "      <td>-0.356439</td>\n",
       "      <td>0.377110</td>\n",
       "      <td>0.001494</td>\n",
       "      <td>-0.287171</td>\n",
       "      <td>...</td>\n",
       "      <td>0.606864</td>\n",
       "      <td>-0.019074</td>\n",
       "      <td>-0.229705</td>\n",
       "      <td>-0.064320</td>\n",
       "      <td>0.610827</td>\n",
       "      <td>-0.058572</td>\n",
       "      <td>-0.262616</td>\n",
       "      <td>-0.622960</td>\n",
       "      <td>0.052980</td>\n",
       "      <td>0.608803</td>\n",
       "    </tr>\n",
       "    <tr>\n",
       "      <th>3</th>\n",
       "      <td>-0.662576</td>\n",
       "      <td>0.008383</td>\n",
       "      <td>-0.402024</td>\n",
       "      <td>-0.281394</td>\n",
       "      <td>0.563727</td>\n",
       "      <td>-0.272911</td>\n",
       "      <td>-0.515930</td>\n",
       "      <td>0.202691</td>\n",
       "      <td>-0.148611</td>\n",
       "      <td>-0.434180</td>\n",
       "      <td>...</td>\n",
       "      <td>-0.478830</td>\n",
       "      <td>0.526026</td>\n",
       "      <td>0.548745</td>\n",
       "      <td>-0.054628</td>\n",
       "      <td>0.012225</td>\n",
       "      <td>0.455824</td>\n",
       "      <td>-0.649239</td>\n",
       "      <td>-0.913782</td>\n",
       "      <td>0.392070</td>\n",
       "      <td>-0.445657</td>\n",
       "    </tr>\n",
       "    <tr>\n",
       "      <th>4</th>\n",
       "      <td>0.124069</td>\n",
       "      <td>-0.002110</td>\n",
       "      <td>-0.092945</td>\n",
       "      <td>0.129959</td>\n",
       "      <td>0.616278</td>\n",
       "      <td>-0.062054</td>\n",
       "      <td>-0.324667</td>\n",
       "      <td>-0.191032</td>\n",
       "      <td>-0.470558</td>\n",
       "      <td>0.249849</td>\n",
       "      <td>...</td>\n",
       "      <td>-0.050736</td>\n",
       "      <td>0.146710</td>\n",
       "      <td>-0.362903</td>\n",
       "      <td>0.294361</td>\n",
       "      <td>-0.404842</td>\n",
       "      <td>-0.925336</td>\n",
       "      <td>-0.245542</td>\n",
       "      <td>-0.478000</td>\n",
       "      <td>0.219709</td>\n",
       "      <td>-0.146917</td>\n",
       "    </tr>\n",
       "  </tbody>\n",
       "</table>\n",
       "<p>5 rows × 100 columns</p>\n",
       "</div>"
      ],
      "text/plain": [
       "         0         1         2         3         4         5         6   \\\n",
       "0 -0.203290  0.157019  0.081251  0.145412 -0.184297 -0.140728 -0.551824   \n",
       "1 -0.522816  0.556190  0.287653 -0.790863  0.257616  0.050956 -0.659295   \n",
       "2 -0.891051 -0.378911 -0.588745 -0.008627 -0.129587  0.107037 -0.356439   \n",
       "3 -0.662576  0.008383 -0.402024 -0.281394  0.563727 -0.272911 -0.515930   \n",
       "4  0.124069 -0.002110 -0.092945  0.129959  0.616278 -0.062054 -0.324667   \n",
       "\n",
       "         7         8         9   ...        90        91        92        93  \\\n",
       "0  0.427484 -0.212026 -0.454808  ... -0.199672  0.049680  0.652167 -0.276553   \n",
       "1  0.367224  0.448070  0.065556  ... -0.194174  0.590518  0.574717 -0.693842   \n",
       "2  0.377110  0.001494 -0.287171  ...  0.606864 -0.019074 -0.229705 -0.064320   \n",
       "3  0.202691 -0.148611 -0.434180  ... -0.478830  0.526026  0.548745 -0.054628   \n",
       "4 -0.191032 -0.470558  0.249849  ... -0.050736  0.146710 -0.362903  0.294361   \n",
       "\n",
       "         94        95        96        97        98        99  \n",
       "0  0.454451  0.358438  0.519319 -0.615428 -0.161831  0.177530  \n",
       "1  0.785193  0.104926 -0.235397 -0.835852  0.758061 -0.464559  \n",
       "2  0.610827 -0.058572 -0.262616 -0.622960  0.052980  0.608803  \n",
       "3  0.012225  0.455824 -0.649239 -0.913782  0.392070 -0.445657  \n",
       "4 -0.404842 -0.925336 -0.245542 -0.478000  0.219709 -0.146917  \n",
       "\n",
       "[5 rows x 100 columns]"
      ]
     },
     "execution_count": 15,
     "metadata": {},
     "output_type": "execute_result"
    }
   ],
   "source": [
    "df = pd.DataFrame(sent_vectors)\n",
    "df.head()"
   ]
  },
  {
   "cell_type": "code",
   "execution_count": 16,
   "id": "f5cf4c13",
   "metadata": {},
   "outputs": [],
   "source": [
    "X=df\n",
    "y=sample_data[\"Score\"]"
   ]
  },
  {
   "cell_type": "code",
   "execution_count": 17,
   "id": "00756a22",
   "metadata": {},
   "outputs": [],
   "source": [
    "X_train, X_test, y_train, y_test = train_test_split(X, y, test_size = 0.3, shuffle = False)"
   ]
  },
  {
   "cell_type": "code",
   "execution_count": 18,
   "id": "da283b4c",
   "metadata": {},
   "outputs": [
    {
     "data": {
      "text/plain": [
       "((70000, 100), (70000,), (30000, 100), (30000,))"
      ]
     },
     "execution_count": 18,
     "metadata": {},
     "output_type": "execute_result"
    }
   ],
   "source": [
    "X_train.shape, y_train.shape, X_test.shape, y_test.shape"
   ]
  },
  {
   "cell_type": "code",
   "execution_count": 19,
   "id": "8ebf45e5",
   "metadata": {},
   "outputs": [],
   "source": [
    "s = StandardScaler() # Since we are passing sparse matrix\n",
    "# Call the fit_transform method on training data\n",
    "X_train = s.fit_transform(X_train)\n",
    "# Call the transform method on the test dataset\n",
    "X_test = s.transform(X_test)"
   ]
  },
  {
   "cell_type": "code",
   "execution_count": 20,
   "id": "3fec274a",
   "metadata": {},
   "outputs": [
    {
     "name": "stdout",
     "output_type": "stream",
     "text": [
      "\n",
      "The optimal alpha is 0.1\n",
      "Total time in minutes =  0.6452457586924235\n"
     ]
    }
   ],
   "source": [
    "start = time.time()\n",
    "# creating list of C\n",
    "C_values = np.linspace(0.1,1,10)\n",
    "\n",
    "cv_scores = [] # empty list that will hold cv scores\n",
    "\n",
    "# Try each value of alpha in the below loop\n",
    "for c in C_values:\n",
    "    # Create an object of the class Logistic Regression with balanced class weights\n",
    "    clf = LogisticRegression(C = c, class_weight = 'balanced',max_iter=5,solver='saga')\n",
    "    # perform 5-fold cross validation\n",
    "    # It returns the cv accuracy for each fold in a list\n",
    "    scores = cross_val_score(clf,X_train,y_train, cv=5, scoring='accuracy')\n",
    "    # Store the mean of the accuracies from all the 5 folds\n",
    "    cv_scores.append(scores.mean())\n",
    "\n",
    "# calculate misclassification error from accuracy (error = 1 - accuracy)\n",
    "cv_error = [1 - x for x in cv_scores]\n",
    "\n",
    "# optimal (best) C is the one for which error is minimum (or accuracy is maximum)\n",
    "optimal_C = C_values[cv_error.index(min(cv_error))]\n",
    "print('\\nThe optimal alpha is', optimal_C)\n",
    "\n",
    "end = time.time()\n",
    "print(\"Total time in minutes = \", (end-start)/60)"
   ]
  },
  {
   "cell_type": "code",
   "execution_count": 23,
   "id": "e9ec9656",
   "metadata": {},
   "outputs": [
    {
     "name": "stdout",
     "output_type": "stream",
     "text": [
      "\n",
      "The accuracy of the classifier for k = 0 is 90.333333%\n"
     ]
    }
   ],
   "source": [
    "knn_optimal =LogisticRegression(C=optimal_C)\n",
    "# fitting the model\n",
    "knn_optimal.fit(X_train,y_train)\n",
    "# predict the response\n",
    "pred = knn_optimal.predict(X_test)\n",
    "\n",
    "# evaluate accuracy\n",
    "acc = accuracy_score(y_test, pred) * 100\n",
    "print('\\nThe accuracy of the classifier for k = %d is %f%%' % (optimal_C, acc))"
   ]
  },
  {
   "cell_type": "code",
   "execution_count": 24,
   "id": "fdce3ed4",
   "metadata": {},
   "outputs": [
    {
     "data": {
      "text/plain": [
       "array([[ 2636,  2105],\n",
       "       [  795, 24464]], dtype=int64)"
      ]
     },
     "execution_count": 24,
     "metadata": {},
     "output_type": "execute_result"
    }
   ],
   "source": [
    "confusion_matrix(y_test,pred)"
   ]
  },
  {
   "cell_type": "code",
   "execution_count": null,
   "id": "417dbaf4",
   "metadata": {},
   "outputs": [],
   "source": []
  }
 ],
 "metadata": {
  "kernelspec": {
   "display_name": "Python 3 (ipykernel)",
   "language": "python",
   "name": "python3"
  },
  "language_info": {
   "codemirror_mode": {
    "name": "ipython",
    "version": 3
   },
   "file_extension": ".py",
   "mimetype": "text/x-python",
   "name": "python",
   "nbconvert_exporter": "python",
   "pygments_lexer": "ipython3",
   "version": "3.9.12"
  }
 },
 "nbformat": 4,
 "nbformat_minor": 5
}
