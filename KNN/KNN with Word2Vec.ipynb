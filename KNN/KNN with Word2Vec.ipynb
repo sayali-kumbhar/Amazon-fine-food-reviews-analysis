{
 "cells": [
  {
   "cell_type": "code",
   "execution_count": 29,
   "id": "899f1e50",
   "metadata": {},
   "outputs": [],
   "source": [
    "import pandas as pd\n",
    "from sklearn.model_selection import train_test_split\n",
    "from sklearn.feature_extraction.text import CountVectorizer,TfidfVectorizer,TfidfTransformer\n",
    "import warnings \n",
    "warnings.filterwarnings('ignore')\n",
    "import seaborn as sns\n",
    "import matplotlib.pyplot as plt\n",
    "from sklearn.preprocessing import StandardScaler\n",
    "import time\n",
    "import numpy as np\n",
    "from sklearn.model_selection import cross_val_score\n",
    "from sklearn.neighbors import KNeighborsClassifier\n",
    "import gensim\n",
    "from gensim.models import Word2Vec\n",
    "from gensim.models import KeyedVectors\n",
    "from tqdm import tqdm\n",
    "from sklearn.metrics import accuracy_score,confusion_matrix\n"
   ]
  },
  {
   "cell_type": "code",
   "execution_count": 2,
   "id": "965816c1",
   "metadata": {},
   "outputs": [
    {
     "data": {
      "text/plain": [
       "Time          False\n",
       "clean text     True\n",
       "Score         False\n",
       "dtype: bool"
      ]
     },
     "execution_count": 2,
     "metadata": {},
     "output_type": "execute_result"
    }
   ],
   "source": [
    "data=pd.read_csv(\"preprocessed_file.csv\")\n",
    "data.isnull().any()"
   ]
  },
  {
   "cell_type": "code",
   "execution_count": 3,
   "id": "7be18fcb",
   "metadata": {},
   "outputs": [
    {
     "data": {
      "text/plain": [
       "0"
      ]
     },
     "execution_count": 3,
     "metadata": {},
     "output_type": "execute_result"
    }
   ],
   "source": [
    "final_data=data.dropna()\n",
    "final_data.isnull().any().sum()"
   ]
  },
  {
   "cell_type": "code",
   "execution_count": 4,
   "id": "b47330c6",
   "metadata": {},
   "outputs": [
    {
     "data": {
      "text/html": [
       "<div>\n",
       "<style scoped>\n",
       "    .dataframe tbody tr th:only-of-type {\n",
       "        vertical-align: middle;\n",
       "    }\n",
       "\n",
       "    .dataframe tbody tr th {\n",
       "        vertical-align: top;\n",
       "    }\n",
       "\n",
       "    .dataframe thead th {\n",
       "        text-align: right;\n",
       "    }\n",
       "</style>\n",
       "<table border=\"1\" class=\"dataframe\">\n",
       "  <thead>\n",
       "    <tr style=\"text-align: right;\">\n",
       "      <th></th>\n",
       "      <th>Time</th>\n",
       "      <th>clean text</th>\n",
       "      <th>Score</th>\n",
       "    </tr>\n",
       "  </thead>\n",
       "  <tbody>\n",
       "    <tr>\n",
       "      <th>0</th>\n",
       "      <td>939340800</td>\n",
       "      <td>witty little book makes son laugh loud recite ...</td>\n",
       "      <td>1</td>\n",
       "    </tr>\n",
       "    <tr>\n",
       "      <th>1</th>\n",
       "      <td>1194739200</td>\n",
       "      <td>grew reading sendak books watching really rosi...</td>\n",
       "      <td>1</td>\n",
       "    </tr>\n",
       "  </tbody>\n",
       "</table>\n",
       "</div>"
      ],
      "text/plain": [
       "         Time                                         clean text  Score\n",
       "0   939340800  witty little book makes son laugh loud recite ...      1\n",
       "1  1194739200  grew reading sendak books watching really rosi...      1"
      ]
     },
     "execution_count": 4,
     "metadata": {},
     "output_type": "execute_result"
    }
   ],
   "source": [
    "final_data.head(2)"
   ]
  },
  {
   "cell_type": "code",
   "execution_count": 5,
   "id": "eabebaf3",
   "metadata": {},
   "outputs": [],
   "source": [
    "text=final_data[\"clean text\"]"
   ]
  },
  {
   "cell_type": "code",
   "execution_count": 6,
   "id": "6d345cca",
   "metadata": {},
   "outputs": [],
   "source": [
    "sample_data=final_data.sample(100000,random_state=42)"
   ]
  },
  {
   "cell_type": "code",
   "execution_count": 7,
   "id": "7b32fac5",
   "metadata": {},
   "outputs": [],
   "source": [
    "text=sample_data[\"clean text\"]"
   ]
  },
  {
   "cell_type": "code",
   "execution_count": 8,
   "id": "254e8a6c",
   "metadata": {
    "scrolled": true
   },
   "outputs": [
    {
     "name": "stdout",
     "output_type": "stream",
     "text": [
      "100000\n"
     ]
    }
   ],
   "source": [
    "print(len(text))"
   ]
  },
  {
   "cell_type": "code",
   "execution_count": 9,
   "id": "2a408bf9",
   "metadata": {},
   "outputs": [],
   "source": [
    "i=0\n",
    "list_of_sentance=[]\n",
    "for sentance in text:\n",
    "    list_of_sentance.append(sentance.split())"
   ]
  },
  {
   "cell_type": "code",
   "execution_count": 10,
   "id": "d6b8f46e",
   "metadata": {},
   "outputs": [
    {
     "name": "stdout",
     "output_type": "stream",
     "text": [
      "[('fantastic', 0.8072654604911804), ('awesome', 0.8066225051879883), ('excellent', 0.7999838590621948), ('good', 0.7868425846099854), ('terrific', 0.7852028608322144), ('wonderful', 0.7475936412811279), ('fabulous', 0.6733604073524475), ('amazing', 0.6380982995033264), ('nice', 0.6318499445915222), ('incredible', 0.6205127239227295)]\n",
      "==================================================\n",
      "[('greatest', 0.7437464594841003), ('nastiest', 0.7114289402961731), ('best', 0.6961050629615784), ('smoothest', 0.6398966312408447), ('tastiest', 0.6265688538551331), ('horrible', 0.6128831505775452), ('disgusting', 0.591832160949707), ('sweetest', 0.5710831880569458), ('ive', 0.5537452101707458), ('grossest', 0.5479790568351746)]\n"
     ]
    }
   ],
   "source": [
    "is_your_ram_gt_16g=False\n",
    "want_to_use_google_w2v = False\n",
    "want_to_train_w2v = True\n",
    "\n",
    "if want_to_train_w2v:\n",
    "    # min_count = 5 considers only words that occured atleast 5 times\n",
    "    w2v_model=Word2Vec(list_of_sentance,min_count=5, workers=4)\n",
    "    print(w2v_model.wv.most_similar('great'))\n",
    "    print('='*50)\n",
    "    print(w2v_model.wv.most_similar('worst'))\n",
    "    \n",
    "elif want_to_use_google_w2v and is_your_ram_gt_16g:\n",
    "    if os.path.isfile('GoogleNews-vectors-negative300.bin'):\n",
    "        w2v_model=KeyedVectors.load_word2vec_format('GoogleNews-vectors-negative300.bin', binary=True)\n",
    "        print(w2v_model.wv.most_similar('great'))\n",
    "        print(w2v_model.wv.most_similar('worst'))\n",
    "    else:\n",
    "        print(\"you don't have gogole's word2vec file, keep want_to_train_w2v = True, to train your own w2v \")"
   ]
  },
  {
   "cell_type": "code",
   "execution_count": 11,
   "id": "eedc75ca",
   "metadata": {},
   "outputs": [
    {
     "name": "stdout",
     "output_type": "stream",
     "text": [
      "number of words that occured minimum 5 times  19000\n",
      "sample words  ['not', 'like', 'good', 'great', 'one', 'taste', 'product', 'would', 'coffee', 'flavor', 'tea', 'love', 'no', 'get', 'food', 'really', 'amazon', 'use', 'much', 'also', 'time', 'little', 'find', 'best', 'price', 'buy', 'make', 'well', 'tried', 'even', 'better', 'try', 'chocolate', 'eat', 'sugar', 'first', 'water', 'used', 'could', 'found', 'sweet', 'made', 'bag', 'bought', 'free', 'drink', 'cup', 'dog', 'box', 'way']\n"
     ]
    }
   ],
   "source": [
    "w2v_words = list(w2v_model.wv.key_to_index)\n",
    "print(\"number of words that occured minimum 5 times \",len(w2v_words))\n",
    "print(\"sample words \", w2v_words[0:50])"
   ]
  },
  {
   "cell_type": "code",
   "execution_count": 12,
   "id": "e8928326",
   "metadata": {},
   "outputs": [
    {
     "data": {
      "text/plain": [
       "19000"
      ]
     },
     "execution_count": 12,
     "metadata": {},
     "output_type": "execute_result"
    }
   ],
   "source": [
    "len(w2v_words)"
   ]
  },
  {
   "cell_type": "code",
   "execution_count": 13,
   "id": "816007b2",
   "metadata": {
    "scrolled": true
   },
   "outputs": [
    {
     "data": {
      "text/plain": [
       "100000"
      ]
     },
     "execution_count": 13,
     "metadata": {},
     "output_type": "execute_result"
    }
   ],
   "source": [
    "len(list_of_sentance)"
   ]
  },
  {
   "cell_type": "code",
   "execution_count": 14,
   "id": "32a633f0",
   "metadata": {},
   "outputs": [
    {
     "name": "stderr",
     "output_type": "stream",
     "text": [
      "100%|█████████████████████████████████████████████████████████████████████████| 100000/100000 [04:10<00:00, 398.86it/s]"
     ]
    },
    {
     "name": "stdout",
     "output_type": "stream",
     "text": [
      "100000\n",
      "100\n"
     ]
    },
    {
     "name": "stderr",
     "output_type": "stream",
     "text": [
      "\n"
     ]
    }
   ],
   "source": [
    "sent_vectors = []; # the avg-w2v for each sentence/review is stored in this list\n",
    "for sent in tqdm(list_of_sentance): # for each review/sentence\n",
    "    sent_vec = np.zeros(100) # as word vectors are of zero length 50, you might need to change this to 300 if you use google's w2v\n",
    "    cnt_words =0; # num of words with a valid vector in the sentence/review\n",
    "    for word in sent: # for each word in a review/sentence\n",
    "        if word in w2v_words:\n",
    "            vec = w2v_model.wv[word]\n",
    "            sent_vec += vec\n",
    "            cnt_words += 1\n",
    "    if cnt_words != 0:\n",
    "        sent_vec /= cnt_words\n",
    "    sent_vectors.append(sent_vec)\n",
    "print(len(sent_vectors))\n",
    "print(len(sent_vectors[0]))"
   ]
  },
  {
   "cell_type": "code",
   "execution_count": 15,
   "id": "056211c8",
   "metadata": {},
   "outputs": [
    {
     "data": {
      "text/html": [
       "<div>\n",
       "<style scoped>\n",
       "    .dataframe tbody tr th:only-of-type {\n",
       "        vertical-align: middle;\n",
       "    }\n",
       "\n",
       "    .dataframe tbody tr th {\n",
       "        vertical-align: top;\n",
       "    }\n",
       "\n",
       "    .dataframe thead th {\n",
       "        text-align: right;\n",
       "    }\n",
       "</style>\n",
       "<table border=\"1\" class=\"dataframe\">\n",
       "  <thead>\n",
       "    <tr style=\"text-align: right;\">\n",
       "      <th></th>\n",
       "      <th>0</th>\n",
       "      <th>1</th>\n",
       "      <th>2</th>\n",
       "      <th>3</th>\n",
       "      <th>4</th>\n",
       "      <th>5</th>\n",
       "      <th>6</th>\n",
       "      <th>7</th>\n",
       "      <th>8</th>\n",
       "      <th>9</th>\n",
       "      <th>...</th>\n",
       "      <th>90</th>\n",
       "      <th>91</th>\n",
       "      <th>92</th>\n",
       "      <th>93</th>\n",
       "      <th>94</th>\n",
       "      <th>95</th>\n",
       "      <th>96</th>\n",
       "      <th>97</th>\n",
       "      <th>98</th>\n",
       "      <th>99</th>\n",
       "    </tr>\n",
       "  </thead>\n",
       "  <tbody>\n",
       "    <tr>\n",
       "      <th>0</th>\n",
       "      <td>0.058834</td>\n",
       "      <td>-0.155793</td>\n",
       "      <td>0.265015</td>\n",
       "      <td>0.103655</td>\n",
       "      <td>-0.227239</td>\n",
       "      <td>-0.338895</td>\n",
       "      <td>-0.302783</td>\n",
       "      <td>0.534516</td>\n",
       "      <td>-0.317536</td>\n",
       "      <td>-0.421252</td>\n",
       "      <td>...</td>\n",
       "      <td>-0.369262</td>\n",
       "      <td>-0.074789</td>\n",
       "      <td>0.659733</td>\n",
       "      <td>-0.218985</td>\n",
       "      <td>0.139495</td>\n",
       "      <td>0.154783</td>\n",
       "      <td>0.236485</td>\n",
       "      <td>-0.384553</td>\n",
       "      <td>-0.443912</td>\n",
       "      <td>0.280094</td>\n",
       "    </tr>\n",
       "    <tr>\n",
       "      <th>1</th>\n",
       "      <td>-0.068788</td>\n",
       "      <td>0.098568</td>\n",
       "      <td>-0.068280</td>\n",
       "      <td>-1.048026</td>\n",
       "      <td>0.366286</td>\n",
       "      <td>-0.006679</td>\n",
       "      <td>-0.845107</td>\n",
       "      <td>0.223634</td>\n",
       "      <td>-0.228382</td>\n",
       "      <td>0.079213</td>\n",
       "      <td>...</td>\n",
       "      <td>-0.410236</td>\n",
       "      <td>0.473840</td>\n",
       "      <td>0.653515</td>\n",
       "      <td>-0.380573</td>\n",
       "      <td>0.807721</td>\n",
       "      <td>-0.330516</td>\n",
       "      <td>0.219536</td>\n",
       "      <td>-0.431900</td>\n",
       "      <td>0.376208</td>\n",
       "      <td>-0.085624</td>\n",
       "    </tr>\n",
       "    <tr>\n",
       "      <th>2</th>\n",
       "      <td>-0.591016</td>\n",
       "      <td>-0.286338</td>\n",
       "      <td>-0.212680</td>\n",
       "      <td>-0.111239</td>\n",
       "      <td>-0.136480</td>\n",
       "      <td>-0.116650</td>\n",
       "      <td>-0.315833</td>\n",
       "      <td>0.681194</td>\n",
       "      <td>-0.220294</td>\n",
       "      <td>-0.264440</td>\n",
       "      <td>...</td>\n",
       "      <td>0.050591</td>\n",
       "      <td>-0.029849</td>\n",
       "      <td>0.000445</td>\n",
       "      <td>-0.417202</td>\n",
       "      <td>0.169694</td>\n",
       "      <td>-0.313185</td>\n",
       "      <td>-0.121823</td>\n",
       "      <td>-0.403575</td>\n",
       "      <td>-0.444765</td>\n",
       "      <td>0.526142</td>\n",
       "    </tr>\n",
       "    <tr>\n",
       "      <th>3</th>\n",
       "      <td>-0.429434</td>\n",
       "      <td>-0.264876</td>\n",
       "      <td>-0.414463</td>\n",
       "      <td>-0.118123</td>\n",
       "      <td>0.101081</td>\n",
       "      <td>-0.428335</td>\n",
       "      <td>-0.616709</td>\n",
       "      <td>-0.188246</td>\n",
       "      <td>-0.594131</td>\n",
       "      <td>-0.140782</td>\n",
       "      <td>...</td>\n",
       "      <td>-0.898202</td>\n",
       "      <td>0.582816</td>\n",
       "      <td>0.657364</td>\n",
       "      <td>-0.154680</td>\n",
       "      <td>0.251603</td>\n",
       "      <td>0.029893</td>\n",
       "      <td>0.008149</td>\n",
       "      <td>-0.422559</td>\n",
       "      <td>-0.095253</td>\n",
       "      <td>0.047376</td>\n",
       "    </tr>\n",
       "    <tr>\n",
       "      <th>4</th>\n",
       "      <td>0.690780</td>\n",
       "      <td>-0.035102</td>\n",
       "      <td>0.016412</td>\n",
       "      <td>0.022452</td>\n",
       "      <td>0.218538</td>\n",
       "      <td>0.252091</td>\n",
       "      <td>-0.040177</td>\n",
       "      <td>-0.299680</td>\n",
       "      <td>-0.462411</td>\n",
       "      <td>0.487809</td>\n",
       "      <td>...</td>\n",
       "      <td>-0.063274</td>\n",
       "      <td>0.205461</td>\n",
       "      <td>-0.082128</td>\n",
       "      <td>0.295573</td>\n",
       "      <td>-0.091755</td>\n",
       "      <td>-1.071244</td>\n",
       "      <td>-0.004107</td>\n",
       "      <td>-0.314956</td>\n",
       "      <td>-0.149205</td>\n",
       "      <td>0.199460</td>\n",
       "    </tr>\n",
       "  </tbody>\n",
       "</table>\n",
       "<p>5 rows × 100 columns</p>\n",
       "</div>"
      ],
      "text/plain": [
       "         0         1         2         3         4         5         6   \\\n",
       "0  0.058834 -0.155793  0.265015  0.103655 -0.227239 -0.338895 -0.302783   \n",
       "1 -0.068788  0.098568 -0.068280 -1.048026  0.366286 -0.006679 -0.845107   \n",
       "2 -0.591016 -0.286338 -0.212680 -0.111239 -0.136480 -0.116650 -0.315833   \n",
       "3 -0.429434 -0.264876 -0.414463 -0.118123  0.101081 -0.428335 -0.616709   \n",
       "4  0.690780 -0.035102  0.016412  0.022452  0.218538  0.252091 -0.040177   \n",
       "\n",
       "         7         8         9   ...        90        91        92        93  \\\n",
       "0  0.534516 -0.317536 -0.421252  ... -0.369262 -0.074789  0.659733 -0.218985   \n",
       "1  0.223634 -0.228382  0.079213  ... -0.410236  0.473840  0.653515 -0.380573   \n",
       "2  0.681194 -0.220294 -0.264440  ...  0.050591 -0.029849  0.000445 -0.417202   \n",
       "3 -0.188246 -0.594131 -0.140782  ... -0.898202  0.582816  0.657364 -0.154680   \n",
       "4 -0.299680 -0.462411  0.487809  ... -0.063274  0.205461 -0.082128  0.295573   \n",
       "\n",
       "         94        95        96        97        98        99  \n",
       "0  0.139495  0.154783  0.236485 -0.384553 -0.443912  0.280094  \n",
       "1  0.807721 -0.330516  0.219536 -0.431900  0.376208 -0.085624  \n",
       "2  0.169694 -0.313185 -0.121823 -0.403575 -0.444765  0.526142  \n",
       "3  0.251603  0.029893  0.008149 -0.422559 -0.095253  0.047376  \n",
       "4 -0.091755 -1.071244 -0.004107 -0.314956 -0.149205  0.199460  \n",
       "\n",
       "[5 rows x 100 columns]"
      ]
     },
     "execution_count": 15,
     "metadata": {},
     "output_type": "execute_result"
    }
   ],
   "source": [
    "df = pd.DataFrame(sent_vectors)\n",
    "df.head()"
   ]
  },
  {
   "cell_type": "code",
   "execution_count": 24,
   "id": "64fa28ed",
   "metadata": {},
   "outputs": [
    {
     "data": {
      "text/html": [
       "<div>\n",
       "<style scoped>\n",
       "    .dataframe tbody tr th:only-of-type {\n",
       "        vertical-align: middle;\n",
       "    }\n",
       "\n",
       "    .dataframe tbody tr th {\n",
       "        vertical-align: top;\n",
       "    }\n",
       "\n",
       "    .dataframe thead th {\n",
       "        text-align: right;\n",
       "    }\n",
       "</style>\n",
       "<table border=\"1\" class=\"dataframe\">\n",
       "  <thead>\n",
       "    <tr style=\"text-align: right;\">\n",
       "      <th></th>\n",
       "      <th>Time</th>\n",
       "      <th>Score</th>\n",
       "      <th>0</th>\n",
       "      <th>1</th>\n",
       "      <th>2</th>\n",
       "      <th>3</th>\n",
       "      <th>4</th>\n",
       "      <th>5</th>\n",
       "      <th>6</th>\n",
       "      <th>7</th>\n",
       "      <th>...</th>\n",
       "      <th>90</th>\n",
       "      <th>91</th>\n",
       "      <th>92</th>\n",
       "      <th>93</th>\n",
       "      <th>94</th>\n",
       "      <th>95</th>\n",
       "      <th>96</th>\n",
       "      <th>97</th>\n",
       "      <th>98</th>\n",
       "      <th>99</th>\n",
       "    </tr>\n",
       "  </thead>\n",
       "  <tbody>\n",
       "    <tr>\n",
       "      <th>112101</th>\n",
       "      <td>1.342915e+09</td>\n",
       "      <td>0.0</td>\n",
       "      <td>NaN</td>\n",
       "      <td>NaN</td>\n",
       "      <td>NaN</td>\n",
       "      <td>NaN</td>\n",
       "      <td>NaN</td>\n",
       "      <td>NaN</td>\n",
       "      <td>NaN</td>\n",
       "      <td>NaN</td>\n",
       "      <td>...</td>\n",
       "      <td>NaN</td>\n",
       "      <td>NaN</td>\n",
       "      <td>NaN</td>\n",
       "      <td>NaN</td>\n",
       "      <td>NaN</td>\n",
       "      <td>NaN</td>\n",
       "      <td>NaN</td>\n",
       "      <td>NaN</td>\n",
       "      <td>NaN</td>\n",
       "      <td>NaN</td>\n",
       "    </tr>\n",
       "    <tr>\n",
       "      <th>184506</th>\n",
       "      <td>1.316218e+09</td>\n",
       "      <td>1.0</td>\n",
       "      <td>NaN</td>\n",
       "      <td>NaN</td>\n",
       "      <td>NaN</td>\n",
       "      <td>NaN</td>\n",
       "      <td>NaN</td>\n",
       "      <td>NaN</td>\n",
       "      <td>NaN</td>\n",
       "      <td>NaN</td>\n",
       "      <td>...</td>\n",
       "      <td>NaN</td>\n",
       "      <td>NaN</td>\n",
       "      <td>NaN</td>\n",
       "      <td>NaN</td>\n",
       "      <td>NaN</td>\n",
       "      <td>NaN</td>\n",
       "      <td>NaN</td>\n",
       "      <td>NaN</td>\n",
       "      <td>NaN</td>\n",
       "      <td>NaN</td>\n",
       "    </tr>\n",
       "    <tr>\n",
       "      <th>193449</th>\n",
       "      <td>1.307664e+09</td>\n",
       "      <td>1.0</td>\n",
       "      <td>NaN</td>\n",
       "      <td>NaN</td>\n",
       "      <td>NaN</td>\n",
       "      <td>NaN</td>\n",
       "      <td>NaN</td>\n",
       "      <td>NaN</td>\n",
       "      <td>NaN</td>\n",
       "      <td>NaN</td>\n",
       "      <td>...</td>\n",
       "      <td>NaN</td>\n",
       "      <td>NaN</td>\n",
       "      <td>NaN</td>\n",
       "      <td>NaN</td>\n",
       "      <td>NaN</td>\n",
       "      <td>NaN</td>\n",
       "      <td>NaN</td>\n",
       "      <td>NaN</td>\n",
       "      <td>NaN</td>\n",
       "      <td>NaN</td>\n",
       "    </tr>\n",
       "    <tr>\n",
       "      <th>63140</th>\n",
       "      <td>1.316390e+09</td>\n",
       "      <td>1.0</td>\n",
       "      <td>0.247117</td>\n",
       "      <td>-0.16506</td>\n",
       "      <td>-0.257125</td>\n",
       "      <td>-0.008054</td>\n",
       "      <td>0.322811</td>\n",
       "      <td>-0.224378</td>\n",
       "      <td>-0.835032</td>\n",
       "      <td>0.507025</td>\n",
       "      <td>...</td>\n",
       "      <td>0.419412</td>\n",
       "      <td>0.285577</td>\n",
       "      <td>-0.15682</td>\n",
       "      <td>0.104261</td>\n",
       "      <td>-0.105878</td>\n",
       "      <td>0.455342</td>\n",
       "      <td>0.08639</td>\n",
       "      <td>-0.95928</td>\n",
       "      <td>-0.337711</td>\n",
       "      <td>-0.496939</td>\n",
       "    </tr>\n",
       "    <tr>\n",
       "      <th>249434</th>\n",
       "      <td>1.311120e+09</td>\n",
       "      <td>1.0</td>\n",
       "      <td>NaN</td>\n",
       "      <td>NaN</td>\n",
       "      <td>NaN</td>\n",
       "      <td>NaN</td>\n",
       "      <td>NaN</td>\n",
       "      <td>NaN</td>\n",
       "      <td>NaN</td>\n",
       "      <td>NaN</td>\n",
       "      <td>...</td>\n",
       "      <td>NaN</td>\n",
       "      <td>NaN</td>\n",
       "      <td>NaN</td>\n",
       "      <td>NaN</td>\n",
       "      <td>NaN</td>\n",
       "      <td>NaN</td>\n",
       "      <td>NaN</td>\n",
       "      <td>NaN</td>\n",
       "      <td>NaN</td>\n",
       "      <td>NaN</td>\n",
       "    </tr>\n",
       "  </tbody>\n",
       "</table>\n",
       "<p>5 rows × 102 columns</p>\n",
       "</div>"
      ],
      "text/plain": [
       "                Time  Score         0        1         2         3         4  \\\n",
       "112101  1.342915e+09    0.0       NaN      NaN       NaN       NaN       NaN   \n",
       "184506  1.316218e+09    1.0       NaN      NaN       NaN       NaN       NaN   \n",
       "193449  1.307664e+09    1.0       NaN      NaN       NaN       NaN       NaN   \n",
       "63140   1.316390e+09    1.0  0.247117 -0.16506 -0.257125 -0.008054  0.322811   \n",
       "249434  1.311120e+09    1.0       NaN      NaN       NaN       NaN       NaN   \n",
       "\n",
       "               5         6         7  ...        90        91       92  \\\n",
       "112101       NaN       NaN       NaN  ...       NaN       NaN      NaN   \n",
       "184506       NaN       NaN       NaN  ...       NaN       NaN      NaN   \n",
       "193449       NaN       NaN       NaN  ...       NaN       NaN      NaN   \n",
       "63140  -0.224378 -0.835032  0.507025  ...  0.419412  0.285577 -0.15682   \n",
       "249434       NaN       NaN       NaN  ...       NaN       NaN      NaN   \n",
       "\n",
       "              93        94        95       96       97        98        99  \n",
       "112101       NaN       NaN       NaN      NaN      NaN       NaN       NaN  \n",
       "184506       NaN       NaN       NaN      NaN      NaN       NaN       NaN  \n",
       "193449       NaN       NaN       NaN      NaN      NaN       NaN       NaN  \n",
       "63140   0.104261 -0.105878  0.455342  0.08639 -0.95928 -0.337711 -0.496939  \n",
       "249434       NaN       NaN       NaN      NaN      NaN       NaN       NaN  \n",
       "\n",
       "[5 rows x 102 columns]"
      ]
     },
     "execution_count": 24,
     "metadata": {},
     "output_type": "execute_result"
    }
   ],
   "source": [
    "df=pd.concat([sample_data['Time'],sample_data['Score'],df],axis=1)\n",
    "df.head()"
   ]
  },
  {
   "cell_type": "code",
   "execution_count": 18,
   "id": "0f7705bc",
   "metadata": {},
   "outputs": [],
   "source": [
    "#X = data.drop(labels=['Time', 'Score'], axis = 1)\n",
    "#y = data['Score']\n",
    "X=df\n",
    "y=sample_data[\"Score\"]"
   ]
  },
  {
   "cell_type": "code",
   "execution_count": 19,
   "id": "c790dded",
   "metadata": {},
   "outputs": [],
   "source": [
    "X_train, X_test, y_train, y_test = train_test_split(X, y, test_size = 0.3, shuffle = False)"
   ]
  },
  {
   "cell_type": "code",
   "execution_count": 20,
   "id": "acdba672",
   "metadata": {},
   "outputs": [
    {
     "data": {
      "text/plain": [
       "((70000, 100), (70000,), (30000, 100), (30000,))"
      ]
     },
     "execution_count": 20,
     "metadata": {},
     "output_type": "execute_result"
    }
   ],
   "source": [
    "X_train.shape, y_train.shape, X_test.shape, y_test.shape"
   ]
  },
  {
   "cell_type": "code",
   "execution_count": 21,
   "id": "af880120",
   "metadata": {},
   "outputs": [],
   "source": [
    "s = StandardScaler() # Since we are passing sparse matrix\n",
    "# Call the fit_transform method on training data\n",
    "X_train = s.fit_transform(X_train)\n",
    "# Call the transform method on the test dataset\n",
    "X_test = s.transform(X_test)"
   ]
  },
  {
   "cell_type": "code",
   "execution_count": 22,
   "id": "6ad10757",
   "metadata": {},
   "outputs": [
    {
     "name": "stdout",
     "output_type": "stream",
     "text": [
      "\n",
      "The optimal number of neighbors is 15.\n"
     ]
    },
    {
     "data": {
      "image/png": "[encoded data removed]",
      "text/plain": [
       "<Figure size 432x288 with 1 Axes>"
      ]
     },
     "metadata": {
      "needs_background": "light"
     },
     "output_type": "display_data"
    },
    {
     "name": "stdout",
     "output_type": "stream",
     "text": [
      "the misclassification error for each k value is :  [0.162 0.133 0.124 0.121 0.119 0.118 0.119 0.118 0.118 0.119 0.119 0.12\n",
      " 0.12  0.12  0.12  0.121 0.121 0.121 0.122 0.122 0.122 0.122 0.123 0.123\n",
      " 0.123]\n"
     ]
    }
   ],
   "source": [
    "myList = list(range(0,50))\n",
    "neighbors = list(filter(lambda x: x % 2 != 0, myList))\n",
    "cv_scores = []\n",
    "for k in neighbors:\n",
    "    knn = KNeighborsClassifier(n_neighbors=k)\n",
    "    scores = cross_val_score(knn, X_train,y_train, cv=3, scoring='accuracy')\n",
    "    cv_scores.append(scores.mean())\n",
    "\n",
    "# changing to misclassification error\n",
    "MSE = [1 - x for x in cv_scores]\n",
    "\n",
    "# determining best k\n",
    "optimal_k = neighbors[MSE.index(min(MSE))]\n",
    "print('\\nThe optimal number of neighbors is %d.' % optimal_k)\n",
    "\n",
    "# plot misclassification error vs k \n",
    "plt.plot(neighbors, MSE)\n",
    "\n",
    "for xy in zip(neighbors, np.round(MSE,3)):\n",
    "    plt.annotate('(%s, %s)' % xy, xy=xy, textcoords='data')\n",
    "\n",
    "plt.xlabel('Number of Neighbors K')\n",
    "plt.ylabel('Misclassification Error')\n",
    "plt.show()\n",
    "\n",
    "print(\"the misclassification error for each k value is : \", np.round(MSE,3))"
   ]
  },
  {
   "cell_type": "code",
   "execution_count": 25,
   "id": "f83e71e8",
   "metadata": {},
   "outputs": [
    {
     "name": "stdout",
     "output_type": "stream",
     "text": [
      "\n",
      "The accuracy of the knn classifier for k = 15 is 88.293333%\n"
     ]
    }
   ],
   "source": [
    "knn_optimal = KNeighborsClassifier(n_neighbors=optimal_k)\n",
    "# fitting the model\n",
    "knn_optimal.fit(X_train,y_train)\n",
    "# predict the response\n",
    "pred = knn_optimal.predict(X_test)\n",
    "\n",
    "# evaluate accuracy\n",
    "acc = accuracy_score(y_test, pred) * 100\n",
    "print('\\nThe accuracy of the knn classifier for k = %d is %f%%' % (optimal_k,acc))"
   ]
  },
  {
   "cell_type": "code",
   "execution_count": 30,
   "id": "cf0dbee4",
   "metadata": {},
   "outputs": [
    {
     "data": {
      "text/plain": [
       "array([[ 1685,  3056],\n",
       "       [  456, 24803]], dtype=int64)"
      ]
     },
     "execution_count": 30,
     "metadata": {},
     "output_type": "execute_result"
    }
   ],
   "source": [
    "confusion_matrix(y_test,pred)"
   ]
  },
  {
   "cell_type": "code",
   "execution_count": null,
   "id": "b25d78c1",
   "metadata": {},
   "outputs": [],
   "source": []
  }
 ],
 "metadata": {
  "kernelspec": {
   "display_name": "Python 3 (ipykernel)",
   "language": "python",
   "name": "python3"
  },
  "language_info": {
   "codemirror_mode": {
    "name": "ipython",
    "version": 3
   },
   "file_extension": ".py",
   "mimetype": "text/x-python",
   "name": "python",
   "nbconvert_exporter": "python",
   "pygments_lexer": "ipython3",
   "version": "3.9.12"
  }
 },
 "nbformat": 4,
 "nbformat_minor": 5
}
